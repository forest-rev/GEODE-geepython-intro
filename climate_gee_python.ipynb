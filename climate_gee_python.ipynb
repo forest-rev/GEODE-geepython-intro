{
 "cells": [
  {
   "cell_type": "markdown",
   "id": "8efa00d2",
   "metadata": {},
   "source": [
    "## Info"
   ]
  },
  {
   "cell_type": "code",
   "execution_count": null,
   "id": "c97f9c52",
   "metadata": {},
   "outputs": [],
   "source": [
    "# Contact: Patrick.Jantz@nau.edu\n",
    "# Material based on tutorials that can be found in resources linked below"
   ]
  },
  {
   "cell_type": "markdown",
   "id": "475ef787",
   "metadata": {},
   "source": [
    "## Resources"
   ]
  },
  {
   "cell_type": "code",
   "execution_count": null,
   "id": "d4b0a452",
   "metadata": {},
   "outputs": [],
   "source": [
    "# https://geemap.org/\n",
    "# https://developers.google.com/earth-engine/guides/python_install-conda#linux_5\n",
    "# https://developers.google.com/earth-engine/tutorials/community/intro-to-python-api\n",
    "# https://geemap.org/notebooks/12_zonal_statistics/\n",
    "# https://geemap.org/notebooks/13_zonal_statistics_by_group/\n",
    "# https://geemap.org/notebooks/36_quality_mosaic/\n",
    "# https://geemap.org/notebooks/34_extract_values/"
   ]
  },
  {
   "cell_type": "markdown",
   "id": "0c874da8",
   "metadata": {},
   "source": [
    "## Imports"
   ]
  },
  {
   "cell_type": "code",
   "execution_count": null,
   "id": "a0bdccba",
   "metadata": {},
   "outputs": [],
   "source": [
    "# Imports\n",
    "import os\n",
    "import ee\n",
    "import pandas as pd\n",
    "import altair as alt\n",
    "import numpy as np\n",
    "import geemap\n",
    "import bqplot\n",
    "from bqplot import pyplot as plt"
   ]
  },
  {
   "cell_type": "markdown",
   "id": "bb169270",
   "metadata": {},
   "source": [
    "## Initialize"
   ]
  },
  {
   "cell_type": "code",
   "execution_count": null,
   "id": "fb314a84",
   "metadata": {},
   "outputs": [],
   "source": [
    "#ee.Authenticate()\n",
    "ee.Initialize()"
   ]
  },
  {
   "cell_type": "markdown",
   "id": "06f856cc",
   "metadata": {},
   "source": [
    "## Basic Plotting"
   ]
  },
  {
   "cell_type": "code",
   "execution_count": null,
   "id": "858c8967",
   "metadata": {},
   "outputs": [],
   "source": [
    "aa = np.array([[1,2,3],[4,5,6]])\n",
    "print(aa)\n",
    "bb = np.array([[1,1,1],[1,1,1]])\n",
    "print(aa+bb)\n",
    "x = np.arange(100)\n",
    "source = pd.DataFrame({\n",
    "  'x': x,\n",
    "  'f(x)': np.sin(x / 5)\n",
    "})\n",
    "print(source)\n",
    "alt.Chart(source).mark_line().encode(\n",
    "    x='x',\n",
    "    y='f(x)'\n",
    ")"
   ]
  },
  {
   "cell_type": "markdown",
   "id": "c6babbaa",
   "metadata": {},
   "source": [
    "## Mapping"
   ]
  },
  {
   "cell_type": "code",
   "execution_count": null,
   "id": "5ec17fcd",
   "metadata": {},
   "outputs": [],
   "source": [
    "# Subset target ecoregion\n",
    "# Target ecoregion ID\n",
    "# colorado plateau 429\n",
    "# arizona mountains 346\n",
    "ecoid = 429\n",
    "#aoi = (ee.FeatureCollection(\"RESOLVE/ECOREGIONS/2017\").filter(ee.Filter.eq('ECO_ID', ecoid))).geometry()\n",
    "aoi = (ee.FeatureCollection(\"RESOLVE/ECOREGIONS/2017\").filter(ee.Filter.eq('ECO_ID', ecoid)))"
   ]
  },
  {
   "cell_type": "code",
   "execution_count": null,
   "id": "a1a9cb9e",
   "metadata": {
    "scrolled": false
   },
   "outputs": [],
   "source": [
    "Map = geemap.Map(center=(40, -100), zoom=4)\n",
    "Map"
   ]
  },
  {
   "cell_type": "code",
   "execution_count": null,
   "id": "92938af9",
   "metadata": {},
   "outputs": [],
   "source": [
    "# Add dem to map\n",
    "dem = ee.Image('USGS/SRTMGL1_003')\n",
    "dem_vis = {\n",
    "'min': 0,\n",
    "'max': 4000,\n",
    "'palette': ['006633', 'E5FFCC', '662A00', 'D8D8D8', 'F5F5F5']}\n",
    "Map.addLayer(dem, dem_vis, 'SRTM DEM', True, 0.5)"
   ]
  },
  {
   "cell_type": "code",
   "execution_count": null,
   "id": "5a58badc",
   "metadata": {},
   "outputs": [],
   "source": [
    "# Add ecoregion to map\n",
    "Map.addLayer(aoi)"
   ]
  },
  {
   "cell_type": "code",
   "execution_count": null,
   "id": "d65563cf",
   "metadata": {},
   "outputs": [],
   "source": [
    "# Terraclimate\n",
    "met = ee.ImageCollection('IDAHO_EPSCOR/TERRACLIMATE')\n",
    "bandNames = met.first().bandNames()\n",
    "print('Band names: ', bandNames.getInfo())\n",
    "# Get properties\n",
    "properties = met.first().propertyNames()\n",
    "print('Metadata properties: ', properties.getInfo())"
   ]
  },
  {
   "cell_type": "code",
   "execution_count": null,
   "id": "2202f89f",
   "metadata": {},
   "outputs": [],
   "source": [
    "# geemap method for image properties\n",
    "image_props = geemap.image_props(met.first())\n",
    "print(image_props.getInfo())"
   ]
  },
  {
   "cell_type": "code",
   "execution_count": null,
   "id": "bdcb9c33",
   "metadata": {},
   "outputs": [],
   "source": [
    "# Terraclimate metrics of interest\n",
    "metrics = ['pr','pet','aet','vpd','vap','tmmx']\n",
    "metricsN = ['PR','PET','AET','VPD','VAP','TMMX']\n",
    "# scaling factors [1,0.1,0.1,0.01,0.001,0.1]\n",
    "\n",
    "# Filter by metrics and date\n",
    "start_date = '1958-01-01'\n",
    "end_date = '2021-12-31'\n",
    "met = ee.ImageCollection('IDAHO_EPSCOR/TERRACLIMATE').filterDate(start_date, end_date).select(metrics)"
   ]
  },
  {
   "cell_type": "code",
   "execution_count": null,
   "id": "268cb611",
   "metadata": {},
   "outputs": [],
   "source": [
    "bandNames = met.first().bandNames()\n",
    "print('Band names: ', bandNames.getInfo())"
   ]
  },
  {
   "cell_type": "code",
   "execution_count": null,
   "id": "6e4baa30",
   "metadata": {},
   "outputs": [],
   "source": [
    "# Visualize first image\n",
    "tmmx_vis = {\n",
    "'min': 0,\n",
    "'max': 30,\n",
    "'palette': ['006633', 'E5FFCC', '662A00', 'D8D8D8', 'F5F5F5']}\n",
    "Map.addLayer(met.first().select('tmmx'), tmmx_vis, 'TMAX', True, 0.5)\n"
   ]
  },
  {
   "cell_type": "markdown",
   "id": "d789a1ab",
   "metadata": {},
   "source": [
    "## Processing and Graphing"
   ]
  },
  {
   "cell_type": "code",
   "execution_count": null,
   "id": "4a1d3af7",
   "metadata": {},
   "outputs": [],
   "source": [
    "# Output directory for zonal stats\n",
    "out_dir = os.path.join(os.path.expanduser('~'), 'Downloads')\n",
    "met_stats = os.path.join(out_dir, 'met_stats.csv')\n",
    "print(out_dir)\n",
    "print(met_stats)"
   ]
  },
  {
   "cell_type": "code",
   "execution_count": null,
   "id": "d2598cf1",
   "metadata": {},
   "outputs": [],
   "source": [
    "# Allowed output formats: csv, shp, json, kml, kmz\n",
    "# Allowed statistics type: MEAN, MAXIMUM, MINIMUM, MEDIAN, STD, MIN_MAX, VARIANCE, SUM\n",
    "geemap.zonal_statistics(met, aoi, met_stats, statistics_type='MEAN', scale=10000, crs='EPSG:4269')"
   ]
  },
  {
   "cell_type": "code",
   "execution_count": null,
   "id": "e3dc2d8d",
   "metadata": {},
   "outputs": [],
   "source": [
    "mStats = pd.read_csv(met_stats)\n",
    "print(mStats.shape)\n",
    "print(list(mStats))"
   ]
  },
  {
   "cell_type": "code",
   "execution_count": null,
   "id": "c839ba75",
   "metadata": {},
   "outputs": [],
   "source": [
    "# Get zstat rows\n",
    "zsI = [i for i,j in enumerate(list(mStats)) if any(x in j for x in ['pr','pet','aet','vpd','vap'])]\n",
    "mStats = mStats.iloc[:,zsI]\n",
    "mStats = mStats.T\n"
   ]
  },
  {
   "cell_type": "code",
   "execution_count": null,
   "id": "bdc054df",
   "metadata": {},
   "outputs": [],
   "source": [
    "print(mStats.index)\n",
    "print(list(mStats))\n",
    "\n",
    "mStats = mStats.rename(columns={0: 'Value'})\n",
    "mStats['Year'] = [i.split('_')[0][0:4] for i in mStats.index]\n",
    "mStats['Month'] = [int(i.split('_')[0][4:6]) for i in mStats.index]\n",
    "mStats['YearMonth'] = [i.split('_')[0] for i in mStats.index]\n",
    "mStats['Variable'] = [i.split('_')[1] for i in mStats.index]\n",
    "mStats = mStats.reset_index(drop=True)\n",
    "mStats.head()"
   ]
  },
  {
   "cell_type": "code",
   "execution_count": null,
   "id": "0bbc6302",
   "metadata": {},
   "outputs": [],
   "source": [
    "# Get vpd\n",
    "vpd = mStats.loc[mStats['Variable'] == 'vpd'].copy() # Compare without copy.\n",
    "# Scale\n",
    "vpd.Value = vpd.Value * 0.01\n",
    "vpd = vpd.reset_index(drop=True)\n",
    "# Create timestamp\n",
    "vpd['Timestamp'] = pd.to_datetime(vpd.YearMonth, format='%Y%m', errors='ignore')\n",
    "print(vpd.head())"
   ]
  },
  {
   "cell_type": "code",
   "execution_count": null,
   "id": "5e20dd4a",
   "metadata": {
    "scrolled": false
   },
   "outputs": [],
   "source": [
    "# Line plot\n",
    "fig = plt.figure(title=\"VPD\")\n",
    "line_chart = plt.plot(x=vpd.Timestamp, y=vpd.Value)\n",
    "\n",
    "plt.xlabel(\"Date\")\n",
    "plt.ylabel(\"VPD\")\n",
    "\n",
    "plt.show()"
   ]
  },
  {
   "cell_type": "code",
   "execution_count": null,
   "id": "5441c3ac",
   "metadata": {},
   "outputs": [],
   "source": [
    "# Bar chart\n",
    "cs = 'blueorange'\n",
    "bchart = alt.Chart(vpd).mark_bar(size=1).encode(\n",
    "    x='Timestamp:T',\n",
    "    y='Value:Q',\n",
    "    color=alt.Color(\n",
    "        'Value:Q', scale=alt.Scale(scheme=cs, domain=(0, 3))),\n",
    "    tooltip=[\n",
    "        alt.Tooltip('Timestamp:T', title='Date'),\n",
    "        alt.Tooltip('Value:Q', title='VPD')\n",
    "    ]).properties(width=800, height=200)\n",
    "bchart"
   ]
  },
  {
   "cell_type": "code",
   "execution_count": null,
   "id": "26abc39c",
   "metadata": {},
   "outputs": [],
   "source": [
    "dchart = alt.Chart(vpd).mark_rect().encode(\n",
    "    x='Year:O',\n",
    "    y='Month:O',\n",
    "    color=alt.Color(\n",
    "        'mean(Value):Q', scale=alt.Scale(scheme=cs, domain=(0, 3))),\n",
    "    tooltip=[\n",
    "        alt.Tooltip('Year:O', title='Year'),\n",
    "        alt.Tooltip('Month:O', title='Month'),\n",
    "        alt.Tooltip('mean(Value):Q', title='VPD')\n",
    "    ]).properties(width=800, height=200)\n",
    "dchart"
   ]
  },
  {
   "cell_type": "code",
   "execution_count": null,
   "id": "d9fce738",
   "metadata": {},
   "outputs": [],
   "source": [
    "# Get ppt\n",
    "ppt = mStats.loc[mStats['Variable'] == 'pr'].copy()\n",
    "ppt = ppt.reset_index(drop=True)\n",
    "# Create timestamp\n",
    "ppt['Timestamp'] = pd.to_datetime(ppt.YearMonth, format='%Y%m', errors='ignore')\n",
    "print(ppt.head())"
   ]
  },
  {
   "cell_type": "code",
   "execution_count": null,
   "id": "52bcee11",
   "metadata": {},
   "outputs": [],
   "source": [
    "# Simple bar chart aggregated by year\n",
    "alt.Chart(ppt).mark_bar().encode(\n",
    "    x='Year',\n",
    "    y='sum(Value)'\n",
    ").properties(width=800, height=200)"
   ]
  },
  {
   "cell_type": "code",
   "execution_count": null,
   "id": "c541fc6d",
   "metadata": {},
   "outputs": [],
   "source": [
    "# Bar chart\n",
    "cs = 'redblue'\n",
    "bchart = alt.Chart(ppt).mark_bar(size=6).encode(\n",
    "    x=alt.X('Year:T',axis=alt.Axis(labelAngle=-45)),\n",
    "    y=alt.Y('sum(Value):Q', title='PPT'),\n",
    "    color=alt.Color(\n",
    "        'sum(Value):Q', scale=alt.Scale(scheme=cs, domain=(0, 400)),legend=alt.Legend(title=\"PPT(mm)\")),\n",
    "    tooltip=[\n",
    "        alt.Tooltip('Year:T', title='Year'),\n",
    "        alt.Tooltip('sum(Value):Q', title='PPT')\n",
    "    ]).properties(width=800, height=200)\n",
    "bchart"
   ]
  },
  {
   "cell_type": "code",
   "execution_count": null,
   "id": "2fe19d71",
   "metadata": {},
   "outputs": [],
   "source": []
  }
 ],
 "metadata": {
  "kernelspec": {
   "display_name": "Python 3 (ipykernel)",
   "language": "python",
   "name": "python3"
  },
  "language_info": {
   "codemirror_mode": {
    "name": "ipython",
    "version": 3
   },
   "file_extension": ".py",
   "mimetype": "text/x-python",
   "name": "python",
   "nbconvert_exporter": "python",
   "pygments_lexer": "ipython3",
   "version": "3.9.7"
  }
 },
 "nbformat": 4,
 "nbformat_minor": 5
}
